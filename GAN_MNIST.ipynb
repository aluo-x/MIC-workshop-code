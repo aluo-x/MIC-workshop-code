{
 "cells": [
  {
   "cell_type": "code",
   "execution_count": null,
   "metadata": {},
   "outputs": [],
   "source": [
    "# Based on the excellent code by znxlwm (Hyeonwoo Kang)\n",
    "# Modified with iPython plotting support & cleaned up by aluo-x (Andrew Luo)\n",
    "import tensorflow as tf\n",
    "from tensorflow.examples.tutorials.mnist import input_data\n",
    "import numpy as np\n",
    "import matplotlib.pyplot as plt\n",
    "import os, time, itertools, imageio, pickle\n",
    "from IPython import display"
   ]
  },
  {
   "cell_type": "code",
   "execution_count": null,
   "metadata": {},
   "outputs": [],
   "source": [
    "def generator(z_in, condition_in, reuse=False):\n",
    "    with tf.variable_scope('generator', reuse=reuse):\n",
    "        # For the input, we take in noise (z_in) + a digit (condition_in)\n",
    "        cat_input = tf.concat([z_in, condition_in], 1)\n",
    "\n",
    "        dense1 = tf.layers.dense(cat_input, units=128, activation=tf.nn.relu)\n",
    "\n",
    "        dense2 = tf.layers.dense(dense1, units=128, activation=tf.nn.relu)\n",
    "\n",
    "        dense3 = tf.layers.dense(dense2, units=784, activation=tf.nn.tanh)\n",
    "\n",
    "        # We output after doing a bunch of dense transforms\n",
    "        return dense3"
   ]
  },
  {
   "cell_type": "code",
   "execution_count": null,
   "metadata": {},
   "outputs": [],
   "source": [
    "def discriminator(data_in, label_in, reuse=False):\n",
    "    with tf.variable_scope('discriminator', reuse=reuse):\n",
    "        # For the discriminator, it needs to take in data in (size 784) and digit (size 10)\n",
    "        cat_input = tf.concat([data_in, label_in], 1)\n",
    "\n",
    "        dense1 = tf.layers.dense(cat_input, units=128, activation=tf.nn.leaky_relu)\n",
    "\n",
    "        dense2 = tf.layers.dense(dense1, units=128, activation=tf.nn.leaky_relu)\n",
    "\n",
    "        dense3 = tf.layers.dense(dense2, units=1, activation=tf.nn.leaky_relu)\n",
    "\n",
    "        return dense3"
   ]
  },
  {
   "cell_type": "code",
   "execution_count": null,
   "metadata": {},
   "outputs": [],
   "source": [
    "onehot = np.eye(10)\n",
    "\n",
    "def visualization_gen():\n",
    "    # Generate data for visualization\n",
    "\n",
    "    temp_z_ = np.random.normal(0, 1, (10, 100))\n",
    "    fixed_z_ = temp_z_\n",
    "    fixed_y_ = np.zeros((10, 1))\n",
    "\n",
    "    for i in range(9):\n",
    "        fixed_z_ = np.concatenate([fixed_z_, temp_z_], 0)\n",
    "        temp = np.ones((10, 1)) + i\n",
    "        fixed_y_ = np.concatenate([fixed_y_, temp], 0)\n",
    "    fixed_y_ = onehot[fixed_y_.astype(np.int32)].squeeze()\n",
    "    # Fixed z should be [10 by 100]\n",
    "    # Fixed y should be [10 by 10]\n",
    "    return fixed_z_, fixed_y_\n",
    "\n",
    "\n",
    "fixed_z_, fixed_y_ = visualization_gen()"
   ]
  },
  {
   "cell_type": "code",
   "execution_count": null,
   "metadata": {},
   "outputs": [],
   "source": [
    "batch_size = 100\n",
    "lr = 0.0002\n",
    "train_epoch = 100"
   ]
  },
  {
   "cell_type": "code",
   "execution_count": null,
   "metadata": {},
   "outputs": [],
   "source": [
    "def show_result(num_epoch, show=False, save=False, path='result.png'):\n",
    "    test_images = sess.run(G_z, {z: fixed_z_, y: fixed_y_})\n",
    "    size_figure_grid = 10\n",
    "    fig, ax = plt.subplots(size_figure_grid, size_figure_grid, figsize=(5, 5))\n",
    "    for i, j in itertools.product(range(size_figure_grid), range(size_figure_grid)):\n",
    "        ax[i, j].get_xaxis().set_visible(False)\n",
    "        ax[i, j].get_yaxis().set_visible(False)\n",
    "\n",
    "    for k in range(size_figure_grid * size_figure_grid):\n",
    "        i = k // size_figure_grid\n",
    "        j = k % size_figure_grid\n",
    "        ax[i, j].cla()\n",
    "        ax[i, j].imshow(np.reshape(test_images[k], (28, 28)), cmap='gray')\n",
    "\n",
    "    label = 'Epoch {0}'.format(num_epoch)\n",
    "    fig.text(0.5, 0.04, label, ha='center')\n",
    "    if save:\n",
    "        plt.savefig(path)\n",
    "    if show:\n",
    "        display.clear_output(wait=True)\n",
    "        plt.show()\n",
    "        display.display(plt.gcf())\n",
    "        plt.gcf().clear()\n",
    "    else:\n",
    "        plt.close()\n",
    "\n",
    "\n",
    "def show_train_hist(hist, show=False, save=False, path='Train_hist.png'):\n",
    "    x = range(len(hist['D_losses']))\n",
    "    y1 = hist['D_losses']\n",
    "    y2 = hist['G_losses']\n",
    "    plt.plot(x, y1, label='D_loss')\n",
    "    plt.plot(x, y2, label='G_loss')\n",
    "    plt.xlabel('Epoch')\n",
    "    plt.ylabel('Loss')\n",
    "    plt.legend(loc=4)\n",
    "    plt.grid(True)\n",
    "    plt.tight_layout()\n",
    "    if save:\n",
    "        plt.savefig(path)\n",
    "    if show:\n",
    "        plt.show()\n",
    "    else:\n",
    "        plt.close()"
   ]
  },
  {
   "cell_type": "code",
   "execution_count": null,
   "metadata": {},
   "outputs": [],
   "source": [
    "# load MNIST\n",
    "mnist = input_data.read_data_sets(\"MNIST_data/\", one_hot=True)\n",
    "train_set = (mnist.train.images - 0.5) / 0.5  # normalization; range: -1 ~ 1\n",
    "train_label = mnist.train.labels"
   ]
  },
  {
   "cell_type": "code",
   "execution_count": null,
   "metadata": {},
   "outputs": [],
   "source": [
    "# variables : input\n",
    "x = tf.placeholder(tf.float32, shape=(None, 784))\n",
    "y = tf.placeholder(tf.float32, shape=(None, 10))\n",
    "z = tf.placeholder(tf.float32, shape=(None, 100))"
   ]
  },
  {
   "cell_type": "code",
   "execution_count": null,
   "metadata": {},
   "outputs": [],
   "source": [
    "# networks : generator\n",
    "G_z = generator(z, y)\n",
    "\n",
    "# networks : discriminator\n",
    "D_real_logits = discriminator(x, y)\n",
    "D_fake_logits = discriminator(G_z, y, reuse=True)"
   ]
  },
  {
   "cell_type": "code",
   "execution_count": null,
   "metadata": {},
   "outputs": [],
   "source": [
    "D_loss_real = tf.reduce_mean(tf.nn.sigmoid_cross_entropy_with_logits(logits=D_real_logits, labels=tf.ones([batch_size, 1])))\n",
    "D_loss_fake = tf.reduce_mean(tf.nn.sigmoid_cross_entropy_with_logits(logits=D_fake_logits, labels=tf.zeros([batch_size, 1])))\n",
    "D_loss = D_loss_real + D_loss_fake\n",
    "G_loss = tf.reduce_mean(tf.nn.sigmoid_cross_entropy_with_logits(logits=D_fake_logits, labels=tf.ones([batch_size, 1])))"
   ]
  },
  {
   "cell_type": "code",
   "execution_count": null,
   "metadata": {},
   "outputs": [],
   "source": [
    "# trainable variables for each network\n",
    "T_vars = tf.trainable_variables()\n",
    "D_vars = [var for var in T_vars if var.name.startswith('discriminator')]\n",
    "G_vars = [var for var in T_vars if var.name.startswith('generator')]"
   ]
  },
  {
   "cell_type": "code",
   "execution_count": null,
   "metadata": {},
   "outputs": [],
   "source": [
    "# optimizer for each network\n",
    "with tf.control_dependencies(tf.get_collection(tf.GraphKeys.UPDATE_OPS)):\n",
    "    D_optim = tf.train.AdamOptimizer(lr, beta1=0.5).minimize(D_loss, var_list=D_vars)\n",
    "    G_optim = tf.train.AdamOptimizer(lr, beta1=0.5).minimize(G_loss, var_list=G_vars)"
   ]
  },
  {
   "cell_type": "code",
   "execution_count": null,
   "metadata": {},
   "outputs": [],
   "source": [
    "# open session and initialize all variables\n",
    "sess = tf.InteractiveSession()\n",
    "tf.global_variables_initializer().run()"
   ]
  },
  {
   "cell_type": "code",
   "execution_count": null,
   "metadata": {},
   "outputs": [],
   "source": [
    "# results save folder\n",
    "root = 'MNIST_cGAN_results/'\n",
    "model = 'MNIST_cGAN_'\n",
    "if not os.path.isdir(root):\n",
    "    os.mkdir(root)\n",
    "if not os.path.isdir(root + 'Fixed_results'):\n",
    "    os.mkdir(root + 'Fixed_results')"
   ]
  },
  {
   "cell_type": "code",
   "execution_count": null,
   "metadata": {},
   "outputs": [],
   "source": [
    "train_hist = {}\n",
    "train_hist['D_losses'] = []\n",
    "train_hist['G_losses'] = []\n",
    "train_hist['per_epoch_ptimes'] = []\n",
    "train_hist['total_ptime'] = []"
   ]
  },
  {
   "cell_type": "code",
   "execution_count": null,
   "metadata": {},
   "outputs": [],
   "source": [
    "# training-loop\n",
    "np.random.seed(int(time.time()))\n",
    "print('training start!')\n",
    "start_time = time.time()\n",
    "for epoch in range(train_epoch):\n",
    "    G_losses = []\n",
    "    D_losses = []\n",
    "    epoch_start_time = time.time()\n",
    "    for iter in range(len(train_set) // batch_size):\n",
    "        # update discriminator\n",
    "        x_ = train_set[iter * batch_size:(iter + 1) * batch_size]\n",
    "        y_ = train_label[iter * batch_size:(iter + 1) * batch_size]\n",
    "\n",
    "        z_ = np.random.normal(0, 1, (batch_size, 100))\n",
    "\n",
    "        loss_d_, _ = sess.run([D_loss, D_optim], {x: x_, y: y_, z: z_})\n",
    "        D_losses.append(loss_d_)\n",
    "\n",
    "        # update generator\n",
    "        z_ = np.random.normal(0, 1, (batch_size, 100))\n",
    "        y_ = np.random.randint(0, 9, (batch_size, 1))\n",
    "        y_ = onehot[y_.astype(np.int32)].squeeze()\n",
    "        loss_g_, _ = sess.run([G_loss, G_optim], {z: z_, x: x_, y: y_})\n",
    "        G_losses.append(loss_g_)\n",
    "\n",
    "    epoch_end_time = time.time()\n",
    "    per_epoch_ptime = epoch_end_time - epoch_start_time\n",
    "    print('[%d/%d] - ptime: %.2f loss_d: %.3f, loss_g: %.3f' % (\n",
    "    (epoch + 1), train_epoch, per_epoch_ptime, np.mean(D_losses), np.mean(G_losses)))\n",
    "    fixed_p = root + 'Fixed_results/' + model + str(epoch + 1) + '.png'\n",
    "    show_result((epoch + 1), show=True, save=True, path=fixed_p)\n",
    "    train_hist['D_losses'].append(np.mean(D_losses))\n",
    "    train_hist['G_losses'].append(np.mean(G_losses))\n",
    "    train_hist['per_epoch_ptimes'].append(per_epoch_ptime)\n",
    "\n",
    "end_time = time.time()\n",
    "total_ptime = end_time - start_time\n",
    "train_hist['total_ptime'].append(total_ptime)\n",
    "\n",
    "print('Avg per epoch ptime: %.2f, total %d epochs ptime: %.2f' % (\n",
    "np.mean(train_hist['per_epoch_ptimes']), train_epoch, total_ptime))\n",
    "print(\"Training finish!... save training results\")\n",
    "with open(root + model + 'train_hist.pkl', 'wb') as f:\n",
    "    pickle.dump(train_hist, f)\n",
    "\n",
    "show_train_hist(train_hist, save=True, path=root + model + 'train_hist.png')\n",
    "\n",
    "images = []\n",
    "for e in range(train_epoch):\n",
    "    img_name = root + 'Fixed_results/' + model + str(e + 1) + '.png'\n",
    "    images.append(imageio.imread(img_name))\n",
    "imageio.mimsave(root + model + 'generation_animation.gif', images, fps=5)\n",
    "\n",
    "sess.close()"
   ]
  }
 ],
 "metadata": {
  "kernelspec": {
   "display_name": "Python 3",
   "language": "python",
   "name": "python3"
  },
  "language_info": {
   "codemirror_mode": {
    "name": "ipython",
    "version": 3
   },
   "file_extension": ".py",
   "mimetype": "text/x-python",
   "name": "python",
   "nbconvert_exporter": "python",
   "pygments_lexer": "ipython3",
   "version": "3.6.5"
  }
 },
 "nbformat": 4,
 "nbformat_minor": 2
}
